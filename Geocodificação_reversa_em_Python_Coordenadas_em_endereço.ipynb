{
  "nbformat": 4,
  "nbformat_minor": 0,
  "metadata": {
    "colab": {
      "name": "Geocodificação reversa em Python - Coordenadas em endereço.ipynb",
      "provenance": [],
      "collapsed_sections": [],
      "authorship_tag": "ABX9TyOvbfUO2H1J78tD+IGlv9fM",
      "include_colab_link": true
    },
    "kernelspec": {
      "name": "python3",
      "display_name": "Python 3"
    },
    "language_info": {
      "name": "python"
    },
    "widgets": {
      "application/vnd.jupyter.widget-state+json": {
        "892c3d11ebc84f899dafd572eb5ae360": {
          "model_module": "@jupyter-widgets/controls",
          "model_name": "HBoxModel",
          "model_module_version": "1.5.0",
          "state": {
            "_view_name": "HBoxView",
            "_dom_classes": [],
            "_model_name": "HBoxModel",
            "_view_module": "@jupyter-widgets/controls",
            "_model_module_version": "1.5.0",
            "_view_count": null,
            "_view_module_version": "1.5.0",
            "box_style": "",
            "layout": "IPY_MODEL_6d5fff7e06124434a4d2d7030e7bfc40",
            "_model_module": "@jupyter-widgets/controls",
            "children": [
              "IPY_MODEL_d4941ae0d9f1489892cdc94c2547291f",
              "IPY_MODEL_0ddbc3d1e7b54458a5e314d34deb1ce3",
              "IPY_MODEL_40046c863d2646bc89bfaf0591e8997a"
            ]
          }
        },
        "6d5fff7e06124434a4d2d7030e7bfc40": {
          "model_module": "@jupyter-widgets/base",
          "model_name": "LayoutModel",
          "model_module_version": "1.2.0",
          "state": {
            "_view_name": "LayoutView",
            "grid_template_rows": null,
            "right": null,
            "justify_content": null,
            "_view_module": "@jupyter-widgets/base",
            "overflow": null,
            "_model_module_version": "1.2.0",
            "_view_count": null,
            "flex_flow": null,
            "width": null,
            "min_width": null,
            "border": null,
            "align_items": null,
            "bottom": null,
            "_model_module": "@jupyter-widgets/base",
            "top": null,
            "grid_column": null,
            "overflow_y": null,
            "overflow_x": null,
            "grid_auto_flow": null,
            "grid_area": null,
            "grid_template_columns": null,
            "flex": null,
            "_model_name": "LayoutModel",
            "justify_items": null,
            "grid_row": null,
            "max_height": null,
            "align_content": null,
            "visibility": null,
            "align_self": null,
            "height": null,
            "min_height": null,
            "padding": null,
            "grid_auto_rows": null,
            "grid_gap": null,
            "max_width": null,
            "order": null,
            "_view_module_version": "1.2.0",
            "grid_template_areas": null,
            "object_position": null,
            "object_fit": null,
            "grid_auto_columns": null,
            "margin": null,
            "display": null,
            "left": null
          }
        },
        "d4941ae0d9f1489892cdc94c2547291f": {
          "model_module": "@jupyter-widgets/controls",
          "model_name": "HTMLModel",
          "model_module_version": "1.5.0",
          "state": {
            "_view_name": "HTMLView",
            "style": "IPY_MODEL_453c3cbcef084a3c9dcaf4217f313c16",
            "_dom_classes": [],
            "description": "",
            "_model_name": "HTMLModel",
            "placeholder": "​",
            "_view_module": "@jupyter-widgets/controls",
            "_model_module_version": "1.5.0",
            "value": "",
            "_view_count": null,
            "_view_module_version": "1.5.0",
            "description_tooltip": null,
            "_model_module": "@jupyter-widgets/controls",
            "layout": "IPY_MODEL_3f30c15f76e7448e8d6cd37b18f6826d"
          }
        },
        "0ddbc3d1e7b54458a5e314d34deb1ce3": {
          "model_module": "@jupyter-widgets/controls",
          "model_name": "FloatProgressModel",
          "model_module_version": "1.5.0",
          "state": {
            "_view_name": "ProgressView",
            "style": "IPY_MODEL_360fe64fb11440819fcdadc6ff581bc6",
            "_dom_classes": [],
            "description": "",
            "_model_name": "FloatProgressModel",
            "bar_style": "info",
            "max": 1,
            "_view_module": "@jupyter-widgets/controls",
            "_model_module_version": "1.5.0",
            "value": 0,
            "_view_count": null,
            "_view_module_version": "1.5.0",
            "orientation": "horizontal",
            "min": 0,
            "description_tooltip": null,
            "_model_module": "@jupyter-widgets/controls",
            "layout": "IPY_MODEL_a80080fcc8124399bd8f934f8e3e31b5"
          }
        },
        "40046c863d2646bc89bfaf0591e8997a": {
          "model_module": "@jupyter-widgets/controls",
          "model_name": "HTMLModel",
          "model_module_version": "1.5.0",
          "state": {
            "_view_name": "HTMLView",
            "style": "IPY_MODEL_94aac994b2184ca5b46aa072491a380b",
            "_dom_classes": [],
            "description": "",
            "_model_name": "HTMLModel",
            "placeholder": "​",
            "_view_module": "@jupyter-widgets/controls",
            "_model_module_version": "1.5.0",
            "value": " 0/? [00:00&lt;?, ?it/s]",
            "_view_count": null,
            "_view_module_version": "1.5.0",
            "description_tooltip": null,
            "_model_module": "@jupyter-widgets/controls",
            "layout": "IPY_MODEL_79eb135dabf4405a98e1bd3101da3e60"
          }
        },
        "453c3cbcef084a3c9dcaf4217f313c16": {
          "model_module": "@jupyter-widgets/controls",
          "model_name": "DescriptionStyleModel",
          "model_module_version": "1.5.0",
          "state": {
            "_view_name": "StyleView",
            "_model_name": "DescriptionStyleModel",
            "description_width": "",
            "_view_module": "@jupyter-widgets/base",
            "_model_module_version": "1.5.0",
            "_view_count": null,
            "_view_module_version": "1.2.0",
            "_model_module": "@jupyter-widgets/controls"
          }
        },
        "3f30c15f76e7448e8d6cd37b18f6826d": {
          "model_module": "@jupyter-widgets/base",
          "model_name": "LayoutModel",
          "model_module_version": "1.2.0",
          "state": {
            "_view_name": "LayoutView",
            "grid_template_rows": null,
            "right": null,
            "justify_content": null,
            "_view_module": "@jupyter-widgets/base",
            "overflow": null,
            "_model_module_version": "1.2.0",
            "_view_count": null,
            "flex_flow": null,
            "width": null,
            "min_width": null,
            "border": null,
            "align_items": null,
            "bottom": null,
            "_model_module": "@jupyter-widgets/base",
            "top": null,
            "grid_column": null,
            "overflow_y": null,
            "overflow_x": null,
            "grid_auto_flow": null,
            "grid_area": null,
            "grid_template_columns": null,
            "flex": null,
            "_model_name": "LayoutModel",
            "justify_items": null,
            "grid_row": null,
            "max_height": null,
            "align_content": null,
            "visibility": null,
            "align_self": null,
            "height": null,
            "min_height": null,
            "padding": null,
            "grid_auto_rows": null,
            "grid_gap": null,
            "max_width": null,
            "order": null,
            "_view_module_version": "1.2.0",
            "grid_template_areas": null,
            "object_position": null,
            "object_fit": null,
            "grid_auto_columns": null,
            "margin": null,
            "display": null,
            "left": null
          }
        },
        "360fe64fb11440819fcdadc6ff581bc6": {
          "model_module": "@jupyter-widgets/controls",
          "model_name": "ProgressStyleModel",
          "model_module_version": "1.5.0",
          "state": {
            "_view_name": "StyleView",
            "_model_name": "ProgressStyleModel",
            "description_width": "",
            "_view_module": "@jupyter-widgets/base",
            "_model_module_version": "1.5.0",
            "_view_count": null,
            "_view_module_version": "1.2.0",
            "bar_color": null,
            "_model_module": "@jupyter-widgets/controls"
          }
        },
        "a80080fcc8124399bd8f934f8e3e31b5": {
          "model_module": "@jupyter-widgets/base",
          "model_name": "LayoutModel",
          "model_module_version": "1.2.0",
          "state": {
            "_view_name": "LayoutView",
            "grid_template_rows": null,
            "right": null,
            "justify_content": null,
            "_view_module": "@jupyter-widgets/base",
            "overflow": null,
            "_model_module_version": "1.2.0",
            "_view_count": null,
            "flex_flow": null,
            "width": "20px",
            "min_width": null,
            "border": null,
            "align_items": null,
            "bottom": null,
            "_model_module": "@jupyter-widgets/base",
            "top": null,
            "grid_column": null,
            "overflow_y": null,
            "overflow_x": null,
            "grid_auto_flow": null,
            "grid_area": null,
            "grid_template_columns": null,
            "flex": null,
            "_model_name": "LayoutModel",
            "justify_items": null,
            "grid_row": null,
            "max_height": null,
            "align_content": null,
            "visibility": null,
            "align_self": null,
            "height": null,
            "min_height": null,
            "padding": null,
            "grid_auto_rows": null,
            "grid_gap": null,
            "max_width": null,
            "order": null,
            "_view_module_version": "1.2.0",
            "grid_template_areas": null,
            "object_position": null,
            "object_fit": null,
            "grid_auto_columns": null,
            "margin": null,
            "display": null,
            "left": null
          }
        },
        "94aac994b2184ca5b46aa072491a380b": {
          "model_module": "@jupyter-widgets/controls",
          "model_name": "DescriptionStyleModel",
          "model_module_version": "1.5.0",
          "state": {
            "_view_name": "StyleView",
            "_model_name": "DescriptionStyleModel",
            "description_width": "",
            "_view_module": "@jupyter-widgets/base",
            "_model_module_version": "1.5.0",
            "_view_count": null,
            "_view_module_version": "1.2.0",
            "_model_module": "@jupyter-widgets/controls"
          }
        },
        "79eb135dabf4405a98e1bd3101da3e60": {
          "model_module": "@jupyter-widgets/base",
          "model_name": "LayoutModel",
          "model_module_version": "1.2.0",
          "state": {
            "_view_name": "LayoutView",
            "grid_template_rows": null,
            "right": null,
            "justify_content": null,
            "_view_module": "@jupyter-widgets/base",
            "overflow": null,
            "_model_module_version": "1.2.0",
            "_view_count": null,
            "flex_flow": null,
            "width": null,
            "min_width": null,
            "border": null,
            "align_items": null,
            "bottom": null,
            "_model_module": "@jupyter-widgets/base",
            "top": null,
            "grid_column": null,
            "overflow_y": null,
            "overflow_x": null,
            "grid_auto_flow": null,
            "grid_area": null,
            "grid_template_columns": null,
            "flex": null,
            "_model_name": "LayoutModel",
            "justify_items": null,
            "grid_row": null,
            "max_height": null,
            "align_content": null,
            "visibility": null,
            "align_self": null,
            "height": null,
            "min_height": null,
            "padding": null,
            "grid_auto_rows": null,
            "grid_gap": null,
            "max_width": null,
            "order": null,
            "_view_module_version": "1.2.0",
            "grid_template_areas": null,
            "object_position": null,
            "object_fit": null,
            "grid_auto_columns": null,
            "margin": null,
            "display": null,
            "left": null
          }
        },
        "549bbe531cdb4ff79bf786901477d93e": {
          "model_module": "@jupyter-widgets/controls",
          "model_name": "HBoxModel",
          "model_module_version": "1.5.0",
          "state": {
            "_view_name": "HBoxView",
            "_dom_classes": [],
            "_model_name": "HBoxModel",
            "_view_module": "@jupyter-widgets/controls",
            "_model_module_version": "1.5.0",
            "_view_count": null,
            "_view_module_version": "1.5.0",
            "box_style": "",
            "layout": "IPY_MODEL_2ffdf4a3c64e4cf087dd29ae70848289",
            "_model_module": "@jupyter-widgets/controls",
            "children": [
              "IPY_MODEL_8d78f29970974a5cad6a4e071c660aa6",
              "IPY_MODEL_663e377778c54bb29ba0c7a703e13633",
              "IPY_MODEL_1f38c19f2c6641a0bb470ecbbca82f65"
            ]
          }
        },
        "2ffdf4a3c64e4cf087dd29ae70848289": {
          "model_module": "@jupyter-widgets/base",
          "model_name": "LayoutModel",
          "model_module_version": "1.2.0",
          "state": {
            "_view_name": "LayoutView",
            "grid_template_rows": null,
            "right": null,
            "justify_content": null,
            "_view_module": "@jupyter-widgets/base",
            "overflow": null,
            "_model_module_version": "1.2.0",
            "_view_count": null,
            "flex_flow": null,
            "width": null,
            "min_width": null,
            "border": null,
            "align_items": null,
            "bottom": null,
            "_model_module": "@jupyter-widgets/base",
            "top": null,
            "grid_column": null,
            "overflow_y": null,
            "overflow_x": null,
            "grid_auto_flow": null,
            "grid_area": null,
            "grid_template_columns": null,
            "flex": null,
            "_model_name": "LayoutModel",
            "justify_items": null,
            "grid_row": null,
            "max_height": null,
            "align_content": null,
            "visibility": null,
            "align_self": null,
            "height": null,
            "min_height": null,
            "padding": null,
            "grid_auto_rows": null,
            "grid_gap": null,
            "max_width": null,
            "order": null,
            "_view_module_version": "1.2.0",
            "grid_template_areas": null,
            "object_position": null,
            "object_fit": null,
            "grid_auto_columns": null,
            "margin": null,
            "display": null,
            "left": null
          }
        },
        "8d78f29970974a5cad6a4e071c660aa6": {
          "model_module": "@jupyter-widgets/controls",
          "model_name": "HTMLModel",
          "model_module_version": "1.5.0",
          "state": {
            "_view_name": "HTMLView",
            "style": "IPY_MODEL_53ec152078624ac488c0715d6102086d",
            "_dom_classes": [],
            "description": "",
            "_model_name": "HTMLModel",
            "placeholder": "​",
            "_view_module": "@jupyter-widgets/controls",
            "_model_module_version": "1.5.0",
            "value": "100%",
            "_view_count": null,
            "_view_module_version": "1.5.0",
            "description_tooltip": null,
            "_model_module": "@jupyter-widgets/controls",
            "layout": "IPY_MODEL_e2e478c7a9064c458e50ef071de19f16"
          }
        },
        "663e377778c54bb29ba0c7a703e13633": {
          "model_module": "@jupyter-widgets/controls",
          "model_name": "FloatProgressModel",
          "model_module_version": "1.5.0",
          "state": {
            "_view_name": "ProgressView",
            "style": "IPY_MODEL_50be9f8064b046d3ab808942a5466e08",
            "_dom_classes": [],
            "description": "",
            "_model_name": "FloatProgressModel",
            "bar_style": "success",
            "max": 150,
            "_view_module": "@jupyter-widgets/controls",
            "_model_module_version": "1.5.0",
            "value": 150,
            "_view_count": null,
            "_view_module_version": "1.5.0",
            "orientation": "horizontal",
            "min": 0,
            "description_tooltip": null,
            "_model_module": "@jupyter-widgets/controls",
            "layout": "IPY_MODEL_1ddc31f74f65449887baa46d85e985ef"
          }
        },
        "1f38c19f2c6641a0bb470ecbbca82f65": {
          "model_module": "@jupyter-widgets/controls",
          "model_name": "HTMLModel",
          "model_module_version": "1.5.0",
          "state": {
            "_view_name": "HTMLView",
            "style": "IPY_MODEL_c907e492fa19481d8b2d2471043859e1",
            "_dom_classes": [],
            "description": "",
            "_model_name": "HTMLModel",
            "placeholder": "​",
            "_view_module": "@jupyter-widgets/controls",
            "_model_module_version": "1.5.0",
            "value": " 150/150 [01:14&lt;00:00,  1.99it/s]",
            "_view_count": null,
            "_view_module_version": "1.5.0",
            "description_tooltip": null,
            "_model_module": "@jupyter-widgets/controls",
            "layout": "IPY_MODEL_0419558dde164e92b68052a7b00160b4"
          }
        },
        "53ec152078624ac488c0715d6102086d": {
          "model_module": "@jupyter-widgets/controls",
          "model_name": "DescriptionStyleModel",
          "model_module_version": "1.5.0",
          "state": {
            "_view_name": "StyleView",
            "_model_name": "DescriptionStyleModel",
            "description_width": "",
            "_view_module": "@jupyter-widgets/base",
            "_model_module_version": "1.5.0",
            "_view_count": null,
            "_view_module_version": "1.2.0",
            "_model_module": "@jupyter-widgets/controls"
          }
        },
        "e2e478c7a9064c458e50ef071de19f16": {
          "model_module": "@jupyter-widgets/base",
          "model_name": "LayoutModel",
          "model_module_version": "1.2.0",
          "state": {
            "_view_name": "LayoutView",
            "grid_template_rows": null,
            "right": null,
            "justify_content": null,
            "_view_module": "@jupyter-widgets/base",
            "overflow": null,
            "_model_module_version": "1.2.0",
            "_view_count": null,
            "flex_flow": null,
            "width": null,
            "min_width": null,
            "border": null,
            "align_items": null,
            "bottom": null,
            "_model_module": "@jupyter-widgets/base",
            "top": null,
            "grid_column": null,
            "overflow_y": null,
            "overflow_x": null,
            "grid_auto_flow": null,
            "grid_area": null,
            "grid_template_columns": null,
            "flex": null,
            "_model_name": "LayoutModel",
            "justify_items": null,
            "grid_row": null,
            "max_height": null,
            "align_content": null,
            "visibility": null,
            "align_self": null,
            "height": null,
            "min_height": null,
            "padding": null,
            "grid_auto_rows": null,
            "grid_gap": null,
            "max_width": null,
            "order": null,
            "_view_module_version": "1.2.0",
            "grid_template_areas": null,
            "object_position": null,
            "object_fit": null,
            "grid_auto_columns": null,
            "margin": null,
            "display": null,
            "left": null
          }
        },
        "50be9f8064b046d3ab808942a5466e08": {
          "model_module": "@jupyter-widgets/controls",
          "model_name": "ProgressStyleModel",
          "model_module_version": "1.5.0",
          "state": {
            "_view_name": "StyleView",
            "_model_name": "ProgressStyleModel",
            "description_width": "",
            "_view_module": "@jupyter-widgets/base",
            "_model_module_version": "1.5.0",
            "_view_count": null,
            "_view_module_version": "1.2.0",
            "bar_color": null,
            "_model_module": "@jupyter-widgets/controls"
          }
        },
        "1ddc31f74f65449887baa46d85e985ef": {
          "model_module": "@jupyter-widgets/base",
          "model_name": "LayoutModel",
          "model_module_version": "1.2.0",
          "state": {
            "_view_name": "LayoutView",
            "grid_template_rows": null,
            "right": null,
            "justify_content": null,
            "_view_module": "@jupyter-widgets/base",
            "overflow": null,
            "_model_module_version": "1.2.0",
            "_view_count": null,
            "flex_flow": null,
            "width": null,
            "min_width": null,
            "border": null,
            "align_items": null,
            "bottom": null,
            "_model_module": "@jupyter-widgets/base",
            "top": null,
            "grid_column": null,
            "overflow_y": null,
            "overflow_x": null,
            "grid_auto_flow": null,
            "grid_area": null,
            "grid_template_columns": null,
            "flex": null,
            "_model_name": "LayoutModel",
            "justify_items": null,
            "grid_row": null,
            "max_height": null,
            "align_content": null,
            "visibility": null,
            "align_self": null,
            "height": null,
            "min_height": null,
            "padding": null,
            "grid_auto_rows": null,
            "grid_gap": null,
            "max_width": null,
            "order": null,
            "_view_module_version": "1.2.0",
            "grid_template_areas": null,
            "object_position": null,
            "object_fit": null,
            "grid_auto_columns": null,
            "margin": null,
            "display": null,
            "left": null
          }
        },
        "c907e492fa19481d8b2d2471043859e1": {
          "model_module": "@jupyter-widgets/controls",
          "model_name": "DescriptionStyleModel",
          "model_module_version": "1.5.0",
          "state": {
            "_view_name": "StyleView",
            "_model_name": "DescriptionStyleModel",
            "description_width": "",
            "_view_module": "@jupyter-widgets/base",
            "_model_module_version": "1.5.0",
            "_view_count": null,
            "_view_module_version": "1.2.0",
            "_model_module": "@jupyter-widgets/controls"
          }
        },
        "0419558dde164e92b68052a7b00160b4": {
          "model_module": "@jupyter-widgets/base",
          "model_name": "LayoutModel",
          "model_module_version": "1.2.0",
          "state": {
            "_view_name": "LayoutView",
            "grid_template_rows": null,
            "right": null,
            "justify_content": null,
            "_view_module": "@jupyter-widgets/base",
            "overflow": null,
            "_model_module_version": "1.2.0",
            "_view_count": null,
            "flex_flow": null,
            "width": null,
            "min_width": null,
            "border": null,
            "align_items": null,
            "bottom": null,
            "_model_module": "@jupyter-widgets/base",
            "top": null,
            "grid_column": null,
            "overflow_y": null,
            "overflow_x": null,
            "grid_auto_flow": null,
            "grid_area": null,
            "grid_template_columns": null,
            "flex": null,
            "_model_name": "LayoutModel",
            "justify_items": null,
            "grid_row": null,
            "max_height": null,
            "align_content": null,
            "visibility": null,
            "align_self": null,
            "height": null,
            "min_height": null,
            "padding": null,
            "grid_auto_rows": null,
            "grid_gap": null,
            "max_width": null,
            "order": null,
            "_view_module_version": "1.2.0",
            "grid_template_areas": null,
            "object_position": null,
            "object_fit": null,
            "grid_auto_columns": null,
            "margin": null,
            "display": null,
            "left": null
          }
        }
      }
    }
  },
  "cells": [
    {
      "cell_type": "markdown",
      "metadata": {
        "id": "view-in-github",
        "colab_type": "text"
      },
      "source": [
        "<a href=\"https://colab.research.google.com/github/Eudson7/Python_Geocodificacao_reversa/blob/main/Geocodifica%C3%A7%C3%A3o_reversa_em_Python_Coordenadas_em_endere%C3%A7o.ipynb\" target=\"_parent\"><img src=\"https://colab.research.google.com/assets/colab-badge.svg\" alt=\"Open In Colab\"/></a>"
      ]
    },
    {
      "cell_type": "markdown",
      "metadata": {
        "id": "o7P7nE3cfSwI"
      },
      "source": [
        "# Geocodificação reversa em Python\n",
        "Como converter latitude / longitude bruta em dados perspicazes com endereços.\n",
        "\n",
        "https://towardsdatascience.com/reverse-geocoding-in-python-a915acf29eb6"
      ]
    },
    {
      "cell_type": "markdown",
      "metadata": {
        "id": "O3gOtboIfheU"
      },
      "source": [
        "Muitos conjuntos de dados têm apenas coordenadas - latitude e longitude - e não têm qualquer associação com características identificáveis como endereços, nomes de ruas, nomes de edifícios ou códigos postais que nós, humanos, reconheçamos. A geocodificação reversa é um componente essencial em muitas aplicações de ciência de dados de localização. O processo de conversão das coordenadas brutas em recursos de dados de localização criteriosos é chamado de Geocodificação reversa.\n",
        "A geocodificação reversa é o processo de codificação reversa (reversa) de uma localização de ponto (latitude, longitude) para um endereço legível ou nome de local. - Wikipedia"
      ]
    },
    {
      "cell_type": "markdown",
      "metadata": {
        "id": "YnNn95Y4fmqL"
      },
      "source": [
        "![image.png](data:image/png;base64,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)"
      ]
    },
    {
      "cell_type": "markdown",
      "metadata": {
        "id": "Bi9Jtxa8g9KE"
      },
      "source": [
        "338 / 5000\n",
        "Resultados de tradução\n",
        "Neste tutorial, vamos cobrir como realizar geocodificação reversa usando Python. Usamos bibliotecas Pandas e Geopy para fornecer geocodificação reversa. Na próxima seção, cobriremos o básico e converteremos as coordenadas de um único ponto em um endereço com código postal e nome do edifício."
      ]
    },
    {
      "cell_type": "markdown",
      "metadata": {
        "id": "t8c1-hHHOPCd"
      },
      "source": [
        "Vamos instalar os pacotes necessários"
      ]
    },
    {
      "cell_type": "code",
      "metadata": {
        "id": "e2WpNv6FaNnt"
      },
      "source": [
        "!pip install geopandas\n",
        "!pip install plotly_express\n",
        "!pip install pandas\n",
        "!pip install ipython-autotime\n",
        "!pip install tqdm==4.62.2\n",
        "#!pip install tqdm==4.36.0"
      ],
      "execution_count": null,
      "outputs": []
    },
    {
      "cell_type": "markdown",
      "metadata": {
        "id": "EzzIZ5YSg-q7"
      },
      "source": [
        "# Exemplo simples de geocodificação reversa\n",
        "Vamos importar nossas bibliotecas primeiro."
      ]
    },
    {
      "cell_type": "code",
      "metadata": {
        "id": "13OhC_9Cz9Sc",
        "colab": {
          "base_uri": "https://localhost:8080/"
        },
        "outputId": "144daeb7-9f46-437e-a1ba-6793d3a81db9"
      },
      "source": [
        "%load_ext autotime\n",
        "import pandas as pd\n",
        "\n",
        "import geopandas as gpd\n",
        "import geopy\n",
        "from geopy.geocoders import Nominatim\n",
        "from geopy.extra.rate_limiter import RateLimiter\n",
        "\n",
        "import matplotlib.pyplot as plt\n",
        "import plotly_express as px\n",
        "import tqdm\n",
        "from tqdm import tqdm\n",
        "from tqdm._tqdm_notebook import tqdm_notebook"
      ],
      "execution_count": null,
      "outputs": [
        {
          "output_type": "stream",
          "name": "stdout",
          "text": [
            "time: 388 µs (started: 2021-11-13 19:33:45 +00:00)\n"
          ]
        }
      ]
    },
    {
      "cell_type": "markdown",
      "metadata": {
        "id": "_sjojr4QhSZA"
      },
      "source": [
        "Agora podemos construir nosso geocodificador. Primeiro precisamos especificar o serviço de geocodificação. Você pode acessar diferentes serviços, incluindo 'google', 'bing', 'yahoo' and 'openmapquest'. Alguns desses serviços cobram pouco depois de um limite específico, mas em nosso exemplo, usaremos o serviço de geocodificação gratuito do Openstreetmap."
      ]
    },
    {
      "cell_type": "markdown",
      "metadata": {
        "id": "cX_DkfFRhjxx"
      },
      "source": [
        "Depois de fornecer as coordenadas com o serviço de geocodificação de nossa escolha, o resultado é um dicionário de diferentes recursos que você pode acessar. Se você imprimir o elemento bruto da localização, verá vários recursos interessantes derivados das coordenadas."
      ]
    },
    {
      "cell_type": "code",
      "metadata": {
        "id": "AtFtaZQ6cHqV",
        "colab": {
          "base_uri": "https://localhost:8080/"
        },
        "outputId": "218f605e-575a-4f92-8dc2-5cb52453985b"
      },
      "source": [
        "#locator = Nominatim(user_agent=\"myGeocoder\")\n",
        "locator = Nominatim(user_agent=\"my-application\")\n",
        "coordinates = \"53.480837, -2.244914\"\n",
        "location = locator.reverse(coordinates)\n",
        "location.raw"
      ],
      "execution_count": null,
      "outputs": [
        {
          "output_type": "execute_result",
          "data": {
            "text/plain": [
              "{'address': {'building': 'Eagle Insurance Buildings',\n",
              "  'city': 'Manchester',\n",
              "  'country': 'United Kingdom',\n",
              "  'country_code': 'gb',\n",
              "  'county': 'Greater Manchester',\n",
              "  'house_number': '68',\n",
              "  'neighbourhood': 'Gay Village',\n",
              "  'postcode': 'M2 4NJ',\n",
              "  'road': 'Cross Street',\n",
              "  'state': 'England',\n",
              "  'state_district': 'North West England',\n",
              "  'suburb': 'City Centre'},\n",
              " 'boundingbox': ['53.480856', '53.4810634', '-2.2451761', '-2.2449576'],\n",
              " 'display_name': 'Eagle Insurance Buildings, 68, Cross Street, Gay Village, City Centre, Manchester, Greater Manchester, North West England, England, M2 4NJ, United Kingdom',\n",
              " 'lat': '53.4809597',\n",
              " 'licence': 'Data © OpenStreetMap contributors, ODbL 1.0. https://osm.org/copyright',\n",
              " 'lon': '-2.2450668274629235',\n",
              " 'osm_id': 37139875,\n",
              " 'osm_type': 'way',\n",
              " 'place_id': 111898782}"
            ]
          },
          "metadata": {},
          "execution_count": 154
        },
        {
          "output_type": "stream",
          "name": "stdout",
          "text": [
            "time: 269 ms (started: 2021-11-13 19:40:19 +00:00)\n"
          ]
        }
      ]
    },
    {
      "cell_type": "markdown",
      "metadata": {
        "id": "DHCZozkphs1R"
      },
      "source": [
        "Aqui você tem um edifício, código postal, endereço, país, nome da estrada e um monte de outros atributos perspicazes que não estavam disponíveis com as coordenadas brutas. Se você está interessado apenas em imprimir apenas o endereço, pode usar as chaves do dicionário ou fazer diretamente assim."
      ]
    },
    {
      "cell_type": "code",
      "metadata": {
        "colab": {
          "base_uri": "https://localhost:8080/"
        },
        "id": "AX7meSBaefF1",
        "outputId": "c34c753b-ec5d-4a39-c3c2-b832c7b0abf9"
      },
      "source": [
        "print(location.address)"
      ],
      "execution_count": null,
      "outputs": [
        {
          "output_type": "stream",
          "name": "stdout",
          "text": [
            "Eagle Insurance Buildings, 68, Cross Street, Gay Village, City Centre, Manchester, Greater Manchester, North West England, England, M2 4NJ, United Kingdom\n"
          ]
        }
      ]
    },
    {
      "cell_type": "markdown",
      "metadata": {
        "id": "jR9Gfypmh83v"
      },
      "source": [
        "E vai imprimir a parte do endereço da saída. Na próxima seção, veremos como podemos usar a geocodificação reversa no Pandas DataFrame."
      ]
    },
    {
      "cell_type": "markdown",
      "metadata": {
        "id": "K_RGrgeiiBmI"
      },
      "source": [
        "# Geocodificação reversa com Pandas DataFrame\n",
        "Freqüentemente, é um subconjunto ou conjunto de dados completo que desejamos obter endereços de latitude e longitude - Geocodificação reversa - em vez de coordenadas individuais. Nesta seção, exploramos como podemos fazer isso com Pandas e Geopy.\n",
        "Primeiro, lemos os dados do URL no Pandas. Os dados são armazenados no Dropbox e podemos usar facilmente com o Pandas se tivermos um link. Você só precisa se certificar de que os últimos caracteres da URL estão configurados para “dl = 1”."
      ]
    },
    {
      "cell_type": "code",
      "metadata": {
        "id": "Flv8YTSIfHsD"
      },
      "source": [
        "url = \"https://www.dropbox.com/s/15gisj8hx218rn1/street-pole-sample.csv?dl=1\"\n",
        "cols = [\"X\", \"Y\", \"POLE_NUM\",\"TYPE\",\"HEIGHT\",\"POLE_DATE\",\"OWNER\"]\n",
        "df = pd.read_csv(url, usecols=cols)"
      ],
      "execution_count": null,
      "outputs": []
    },
    {
      "cell_type": "markdown",
      "metadata": {
        "id": "dc6C5RnALlor"
      },
      "source": [
        "Os dados possuem colunas X e Y onde as coordenadas são armazenadas com outros recursos, conforme mostrado abaixo nesta tabela."
      ]
    },
    {
      "cell_type": "code",
      "metadata": {
        "id": "IIb3HF8e0kiQ",
        "colab": {
          "base_uri": "https://localhost:8080/",
          "height": 206
        },
        "outputId": "c895fbed-d247-47eb-8eec-8a5d995a45ac"
      },
      "source": [
        "df.head()"
      ],
      "execution_count": null,
      "outputs": [
        {
          "output_type": "execute_result",
          "data": {
            "text/html": [
              "<div>\n",
              "<style scoped>\n",
              "    .dataframe tbody tr th:only-of-type {\n",
              "        vertical-align: middle;\n",
              "    }\n",
              "\n",
              "    .dataframe tbody tr th {\n",
              "        vertical-align: top;\n",
              "    }\n",
              "\n",
              "    .dataframe thead th {\n",
              "        text-align: right;\n",
              "    }\n",
              "</style>\n",
              "<table border=\"1\" class=\"dataframe\">\n",
              "  <thead>\n",
              "    <tr style=\"text-align: right;\">\n",
              "      <th></th>\n",
              "      <th>X</th>\n",
              "      <th>Y</th>\n",
              "      <th>POLE_NUM</th>\n",
              "      <th>TYPE</th>\n",
              "      <th>HEIGHT</th>\n",
              "      <th>POLE_DATE</th>\n",
              "      <th>OWNER</th>\n",
              "    </tr>\n",
              "  </thead>\n",
              "  <tbody>\n",
              "    <tr>\n",
              "      <th>0</th>\n",
              "      <td>-75.170097</td>\n",
              "      <td>39.942766</td>\n",
              "      <td>214423</td>\n",
              "      <td>WP</td>\n",
              "      <td>NaN</td>\n",
              "      <td>1997-06-09T00:00:00.000Z</td>\n",
              "      <td>PECO</td>\n",
              "    </tr>\n",
              "    <tr>\n",
              "      <th>1</th>\n",
              "      <td>-75.166112</td>\n",
              "      <td>39.941477</td>\n",
              "      <td>215645</td>\n",
              "      <td>AAPT</td>\n",
              "      <td>25.0</td>\n",
              "      <td>1997-06-10T00:00:00.000Z</td>\n",
              "      <td>Streets</td>\n",
              "    </tr>\n",
              "    <tr>\n",
              "      <th>2</th>\n",
              "      <td>-75.163483</td>\n",
              "      <td>39.943068</td>\n",
              "      <td>215926</td>\n",
              "      <td>WP</td>\n",
              "      <td>NaN</td>\n",
              "      <td>1997-06-04T00:00:00.000Z</td>\n",
              "      <td>PECO</td>\n",
              "    </tr>\n",
              "    <tr>\n",
              "      <th>3</th>\n",
              "      <td>-75.167727</td>\n",
              "      <td>39.944528</td>\n",
              "      <td>214515</td>\n",
              "      <td>WP</td>\n",
              "      <td>25.0</td>\n",
              "      <td>1997-06-09T00:00:00.000Z</td>\n",
              "      <td>Streets</td>\n",
              "    </tr>\n",
              "    <tr>\n",
              "      <th>4</th>\n",
              "      <td>-75.171863</td>\n",
              "      <td>39.941486</td>\n",
              "      <td>214380</td>\n",
              "      <td>WP</td>\n",
              "      <td>25.0</td>\n",
              "      <td>1997-06-09T00:00:00.000Z</td>\n",
              "      <td>Streets</td>\n",
              "    </tr>\n",
              "  </tbody>\n",
              "</table>\n",
              "</div>"
            ],
            "text/plain": [
              "           X          Y  POLE_NUM  ... HEIGHT                 POLE_DATE    OWNER\n",
              "0 -75.170097  39.942766    214423  ...    NaN  1997-06-09T00:00:00.000Z     PECO\n",
              "1 -75.166112  39.941477    215645  ...   25.0  1997-06-10T00:00:00.000Z  Streets\n",
              "2 -75.163483  39.943068    215926  ...    NaN  1997-06-04T00:00:00.000Z     PECO\n",
              "3 -75.167727  39.944528    214515  ...   25.0  1997-06-09T00:00:00.000Z  Streets\n",
              "4 -75.171863  39.941486    214380  ...   25.0  1997-06-09T00:00:00.000Z  Streets\n",
              "\n",
              "[5 rows x 7 columns]"
            ]
          },
          "metadata": {},
          "execution_count": 132
        }
      ]
    },
    {
      "cell_type": "markdown",
      "metadata": {
        "id": "L-TLEbViLrA9"
      },
      "source": [
        "Vamos ver o tamanho da tabela abaixo"
      ]
    },
    {
      "cell_type": "code",
      "metadata": {
        "id": "Bwhu5LhSLf_X",
        "colab": {
          "base_uri": "https://localhost:8080/"
        },
        "outputId": "2819708a-dcb6-449a-c53e-ec4864135364"
      },
      "source": [
        "df.shape"
      ],
      "execution_count": null,
      "outputs": [
        {
          "output_type": "execute_result",
          "data": {
            "text/plain": [
              "(150, 7)"
            ]
          },
          "metadata": {},
          "execution_count": 133
        }
      ]
    },
    {
      "cell_type": "markdown",
      "metadata": {
        "id": "LHgG40oSiVlC"
      },
      "source": [
        "Também podemos explorar os dados e mostrá-los em um mapa usando o Plotly Express. Com apenas uma linha de código, você pode mostrar um mapa com um mapa interativo básico."
      ]
    },
    {
      "cell_type": "code",
      "metadata": {
        "colab": {
          "base_uri": "https://localhost:8080/",
          "height": 542
        },
        "id": "Gdhelw-riZBq",
        "outputId": "d8a930fc-5ff5-4451-c406-e35854ed941d"
      },
      "source": [
        "import plotly_express as px\n",
        "px.set_mapbox_access_token(\"pk.eyJ1Ijoic2hha2Fzb20iLCJhIjoiY2plMWg1NGFpMXZ5NjJxbjhlM2ttN3AwbiJ9.RtGYHmreKiyBfHuElgYq_w\")\n",
        "px.scatter_mapbox(df, lat=\"Y\", lon=\"X\", zoom=14.5)"
      ],
      "execution_count": null,
      "outputs": [
        {
          "output_type": "display_data",
          "data": {
            "text/html": [
              "<html>\n",
              "<head><meta charset=\"utf-8\" /></head>\n",
              "<body>\n",
              "    <div>\n",
              "            <script src=\"https://cdnjs.cloudflare.com/ajax/libs/mathjax/2.7.5/MathJax.js?config=TeX-AMS-MML_SVG\"></script><script type=\"text/javascript\">if (window.MathJax) {MathJax.Hub.Config({SVG: {font: \"STIX-Web\"}});}</script>\n",
              "                <script type=\"text/javascript\">window.PlotlyConfig = {MathJaxConfig: 'local'};</script>\n",
              "        <script src=\"https://cdn.plot.ly/plotly-latest.min.js\"></script>    \n",
              "            <div id=\"e337c854-a9f8-43ce-b382-fb323ddefcd4\" class=\"plotly-graph-div\" style=\"height:525px; width:100%;\"></div>\n",
              "            <script type=\"text/javascript\">\n",
              "                \n",
              "                    window.PLOTLYENV=window.PLOTLYENV || {};\n",
              "                    \n",
              "                if (document.getElementById(\"e337c854-a9f8-43ce-b382-fb323ddefcd4\")) {\n",
              "                    Plotly.newPlot(\n",
              "                        'e337c854-a9f8-43ce-b382-fb323ddefcd4',\n",
              "                        [{\"hoverlabel\": {\"namelength\": 0}, \"hovertemplate\": \"Y=%{lat}<br>X=%{lon}\", \"lat\": [39.9427660880249, 39.941477314134396, 39.9430681055253, 39.9445279530865, 39.9414861490123, 39.9458123834736, 39.943734222490704, 39.945715845869714, 39.9445160204005, 39.945235394064795, 39.9421003060787, 39.942009547845295, 39.9425569100695, 39.9441380595844, 39.94655295116471, 39.94471412257421, 39.940722703319295, 39.9418700579681, 39.941432568147505, 39.9412106113779, 39.9455913439411, 39.941631399475796, 39.9453216271484, 39.9415617915161, 39.9441235936333, 39.946176947876, 39.942189112503, 39.9419956069136, 39.941697034536794, 39.9403614874189, 39.9401786675993, 39.9434598756854, 39.9420902248872, 39.9431896154041, 39.945430863797895, 39.9435696723346, 39.9421963890193, 39.943662268512895, 39.945913371615895, 39.9447291290113, 39.9438161372329, 39.9417940701319, 39.943290066897895, 39.94553263735821, 39.9447444628453, 39.9417476047159, 39.9409625683542, 39.944490892950796, 39.9445699506451, 39.9449078909761, 39.946184951901294, 39.9434308808985, 39.945712206653, 39.9444477229531, 39.9448439241796, 39.942462449375604, 39.9454532004975, 39.9409449392005, 39.9430276704463, 39.9426871252342, 39.9445946467228, 39.9448442707899, 39.9459730420916, 39.9417954502535, 39.9419381840676, 39.9446221329751, 39.94400922034461, 39.944719621934, 39.9430064824281, 39.9434539696837, 39.942744448668606, 39.9405701384996, 39.9450187151075, 39.9447011314276, 39.940969813554396, 39.9435733323148, 39.943578661452, 39.9425954727087, 39.941074901031, 39.941227462484996, 39.9457636200776, 39.94139080509761, 39.9412106113779, 39.944340910105204, 39.94132435114361, 39.9444568898077, 39.9460593082689, 39.943956514005606, 39.9433784003814, 39.9444007609688, 39.944550858963204, 39.9434195085844, 39.9436549605938, 39.9465006258679, 39.94420372696821, 39.9419237085647, 39.9434556417064, 39.945290400124996, 39.9435715281132, 39.9443497703493, 39.941824490631795, 39.940791818266895, 39.945297223736794, 39.94289530432339, 39.9432250585981, 39.9461534280688, 39.9422036598655, 39.942816751974895, 39.9410995860245, 39.940997671671795, 39.9435467222009, 39.941635834688, 39.9428415471354, 39.9437762760183, 39.94320229392221, 39.941477314134396, 39.9427679056027, 39.94333297429471, 39.944204491851295, 39.9437465265944, 39.9438374680866, 39.9451722775365, 39.942506945221794, 39.9446070190048, 39.9451249121917, 39.94239500613021, 39.9448046762956, 39.9425423742086, 39.9451310774725, 39.942502098622896, 39.944844454884795, 39.9401415841301, 39.9444844685105, 39.9440896128934, 39.9464876419233, 39.9439442566142, 39.944594781667206, 39.9420869288918, 39.9436836809808, 39.9438175774937, 39.942022801526, 39.941288226953795, 39.9464576660407, 39.9461515358412, 39.9431594600703, 39.944848862498, 39.943748694572704, 39.9463024050705, 39.943661667793606, 39.9461970120384], \"legendgroup\": \"\", \"lon\": [-75.17009743393821, -75.166112027818, -75.1634826347411, -75.16772651013079, -75.17186304554191, -75.16990506491759, -75.1729444762547, -75.17319847814409, -75.171839078194, -75.1702213350259, -75.16763679647809, -75.164444213202, -75.1658872318113, -75.1697176819241, -75.17342006944808, -75.1631265136534, -75.1660158465086, -75.1687239310986, -75.1714761846592, -75.1659134505965, -75.1733352170396, -75.1660811942322, -75.1701957610606, -75.1658314158863, -75.1686945255596, -75.1728366733244, -75.173465109093, -75.1676826974808, -75.16520814264109, -75.16610004474171, -75.16434362402241, -75.1704582159004, -75.16598882295379, -75.1731247936959, -75.1717829606576, -75.1651744705443, -75.1692690160745, -75.167292004049, -75.17057559537159, -75.1654692349308, -75.17432751996729, -75.16521871683041, -75.172469555266, -75.1683484207589, -75.16542226756721, -75.16606607219279, -75.1691382947034, -75.1697197517855, -75.16805763026629, -75.17349136452249, -75.1739246337558, -75.1656987920779, -75.17334401437179, -75.16698384802551, -75.16633814103079, -75.1724048958403, -75.1690935922351, -75.1675915045988, -75.1700420121554, -75.165187430855, -75.1726887192804, -75.1670642191653, -75.17236717743879, -75.1661079591894, -75.17351922103, -75.1708119285717, -75.1653039447095, -75.16924544189791, -75.1677789731532, -75.1642446920835, -75.1738445501845, -75.1660475139983, -75.1684714180401, -75.1742903501634, -75.168988249338, -75.1656639391241, -75.16892305795609, -75.169509856798, -75.1686087455176, -75.16676819629599, -75.1707266782441, -75.1702620311824, -75.1659134505965, -75.1713432961324, -75.164592019347, -75.1734718925075, -75.17309357605109, -75.1640964069228, -75.17100452670071, -75.1711059652417, -75.16465537452521, -75.17497140117291, -75.17491063549599, -75.1731366058802, -75.1702631764934, -75.170215934446, -75.1632587093028, -75.1668367472907, -75.1686289732543, -75.1706723492525, -75.16931524998641, -75.1663352128476, -75.170709592618, -75.170069336886, -75.16344008949359, -75.1732184576001, -75.17488100140841, -75.1662974724285, -75.1678505385142, -75.1659527660201, -75.1649819135331, -75.1724210857418, -75.1737944865256, -75.1705086447194, -75.1693904798238, -75.166112027818, -75.1659139955285, -75.1657185711356, -75.1665908034466, -75.170012044364, -75.1735997406786, -75.16970458289909, -75.1738945843899, -75.16838715401191, -75.1686217008828, -75.167929760098, -75.1699228097545, -75.1656210842932, -75.16847428551429, -75.1675403586672, -75.1746893605221, -75.1641300766696, -75.1725217886565, -75.16517154773909, -75.1730247032437, -75.17357606820579, -75.1734077919442, -75.1704082558376, -75.16533266852909, -75.1707042066434, -75.16516185704529, -75.1661548956461, -75.1731516153292, -75.17371130092859, -75.165487010455, -75.170467929968, -75.1737663401247, -75.1715777329037, -75.1659299189492, -75.1739973221575], \"marker\": {\"color\": \"#636efa\"}, \"mode\": \"markers\", \"name\": \"\", \"showlegend\": false, \"subplot\": \"mapbox\", \"type\": \"scattermapbox\"}],\n",
              "                        {\"legend\": {\"tracegroupgap\": 0}, \"mapbox\": {\"accesstoken\": \"pk.eyJ1Ijoic2hha2Fzb20iLCJhIjoiY2plMWg1NGFpMXZ5NjJxbjhlM2ttN3AwbiJ9.RtGYHmreKiyBfHuElgYq_w\", \"center\": {\"lat\": 39.94350971163247, \"lon\": -75.16915013406168}, \"domain\": {\"x\": [0.0, 1.0], \"y\": [0.0, 1.0]}, \"zoom\": 14.5}, \"margin\": {\"t\": 60}, \"template\": {\"data\": {\"bar\": [{\"error_x\": {\"color\": \"#2a3f5f\"}, \"error_y\": {\"color\": \"#2a3f5f\"}, \"marker\": {\"line\": {\"color\": \"#E5ECF6\", \"width\": 0.5}}, \"type\": \"bar\"}], \"barpolar\": [{\"marker\": {\"line\": {\"color\": \"#E5ECF6\", \"width\": 0.5}}, \"type\": \"barpolar\"}], \"carpet\": [{\"aaxis\": {\"endlinecolor\": \"#2a3f5f\", \"gridcolor\": \"white\", \"linecolor\": \"white\", \"minorgridcolor\": \"white\", \"startlinecolor\": \"#2a3f5f\"}, \"baxis\": {\"endlinecolor\": \"#2a3f5f\", \"gridcolor\": \"white\", \"linecolor\": \"white\", \"minorgridcolor\": \"white\", \"startlinecolor\": \"#2a3f5f\"}, \"type\": \"carpet\"}], \"choropleth\": [{\"colorbar\": {\"outlinewidth\": 0, \"ticks\": \"\"}, \"type\": \"choropleth\"}], \"contour\": [{\"colorbar\": {\"outlinewidth\": 0, \"ticks\": \"\"}, \"colorscale\": [[0.0, \"#0d0887\"], [0.1111111111111111, \"#46039f\"], [0.2222222222222222, \"#7201a8\"], [0.3333333333333333, \"#9c179e\"], [0.4444444444444444, \"#bd3786\"], [0.5555555555555556, \"#d8576b\"], [0.6666666666666666, \"#ed7953\"], [0.7777777777777778, \"#fb9f3a\"], [0.8888888888888888, \"#fdca26\"], [1.0, \"#f0f921\"]], \"type\": \"contour\"}], \"contourcarpet\": [{\"colorbar\": {\"outlinewidth\": 0, \"ticks\": \"\"}, \"type\": \"contourcarpet\"}], \"heatmap\": [{\"colorbar\": {\"outlinewidth\": 0, \"ticks\": \"\"}, \"colorscale\": [[0.0, \"#0d0887\"], [0.1111111111111111, \"#46039f\"], [0.2222222222222222, \"#7201a8\"], [0.3333333333333333, \"#9c179e\"], [0.4444444444444444, \"#bd3786\"], [0.5555555555555556, \"#d8576b\"], [0.6666666666666666, \"#ed7953\"], [0.7777777777777778, \"#fb9f3a\"], [0.8888888888888888, \"#fdca26\"], [1.0, \"#f0f921\"]], \"type\": \"heatmap\"}], \"heatmapgl\": [{\"colorbar\": {\"outlinewidth\": 0, \"ticks\": \"\"}, \"colorscale\": [[0.0, \"#0d0887\"], [0.1111111111111111, \"#46039f\"], [0.2222222222222222, \"#7201a8\"], [0.3333333333333333, \"#9c179e\"], [0.4444444444444444, \"#bd3786\"], [0.5555555555555556, \"#d8576b\"], [0.6666666666666666, \"#ed7953\"], [0.7777777777777778, \"#fb9f3a\"], [0.8888888888888888, \"#fdca26\"], [1.0, \"#f0f921\"]], \"type\": \"heatmapgl\"}], \"histogram\": [{\"marker\": {\"colorbar\": {\"outlinewidth\": 0, \"ticks\": \"\"}}, \"type\": \"histogram\"}], \"histogram2d\": [{\"colorbar\": {\"outlinewidth\": 0, \"ticks\": \"\"}, \"colorscale\": [[0.0, \"#0d0887\"], [0.1111111111111111, \"#46039f\"], [0.2222222222222222, \"#7201a8\"], [0.3333333333333333, \"#9c179e\"], [0.4444444444444444, \"#bd3786\"], [0.5555555555555556, \"#d8576b\"], [0.6666666666666666, \"#ed7953\"], [0.7777777777777778, \"#fb9f3a\"], [0.8888888888888888, \"#fdca26\"], [1.0, \"#f0f921\"]], \"type\": \"histogram2d\"}], \"histogram2dcontour\": [{\"colorbar\": {\"outlinewidth\": 0, \"ticks\": \"\"}, \"colorscale\": [[0.0, \"#0d0887\"], [0.1111111111111111, \"#46039f\"], [0.2222222222222222, \"#7201a8\"], [0.3333333333333333, \"#9c179e\"], [0.4444444444444444, \"#bd3786\"], [0.5555555555555556, \"#d8576b\"], [0.6666666666666666, \"#ed7953\"], [0.7777777777777778, \"#fb9f3a\"], [0.8888888888888888, \"#fdca26\"], [1.0, \"#f0f921\"]], \"type\": \"histogram2dcontour\"}], \"mesh3d\": [{\"colorbar\": {\"outlinewidth\": 0, \"ticks\": \"\"}, \"type\": \"mesh3d\"}], \"parcoords\": [{\"line\": {\"colorbar\": {\"outlinewidth\": 0, \"ticks\": \"\"}}, \"type\": \"parcoords\"}], \"pie\": [{\"automargin\": true, \"type\": \"pie\"}], \"scatter\": [{\"marker\": {\"colorbar\": {\"outlinewidth\": 0, \"ticks\": \"\"}}, \"type\": \"scatter\"}], \"scatter3d\": [{\"line\": {\"colorbar\": {\"outlinewidth\": 0, \"ticks\": \"\"}}, \"marker\": {\"colorbar\": {\"outlinewidth\": 0, \"ticks\": \"\"}}, \"type\": \"scatter3d\"}], \"scattercarpet\": [{\"marker\": {\"colorbar\": {\"outlinewidth\": 0, \"ticks\": \"\"}}, \"type\": \"scattercarpet\"}], \"scattergeo\": [{\"marker\": {\"colorbar\": {\"outlinewidth\": 0, \"ticks\": \"\"}}, \"type\": \"scattergeo\"}], \"scattergl\": [{\"marker\": {\"colorbar\": {\"outlinewidth\": 0, \"ticks\": \"\"}}, \"type\": \"scattergl\"}], \"scattermapbox\": [{\"marker\": {\"colorbar\": {\"outlinewidth\": 0, \"ticks\": \"\"}}, \"type\": \"scattermapbox\"}], \"scatterpolar\": [{\"marker\": {\"colorbar\": {\"outlinewidth\": 0, \"ticks\": \"\"}}, \"type\": \"scatterpolar\"}], \"scatterpolargl\": [{\"marker\": {\"colorbar\": {\"outlinewidth\": 0, \"ticks\": \"\"}}, \"type\": \"scatterpolargl\"}], \"scatterternary\": [{\"marker\": {\"colorbar\": {\"outlinewidth\": 0, \"ticks\": \"\"}}, \"type\": \"scatterternary\"}], \"surface\": [{\"colorbar\": {\"outlinewidth\": 0, \"ticks\": \"\"}, \"colorscale\": [[0.0, \"#0d0887\"], [0.1111111111111111, \"#46039f\"], [0.2222222222222222, \"#7201a8\"], [0.3333333333333333, \"#9c179e\"], [0.4444444444444444, \"#bd3786\"], [0.5555555555555556, \"#d8576b\"], [0.6666666666666666, \"#ed7953\"], [0.7777777777777778, \"#fb9f3a\"], [0.8888888888888888, \"#fdca26\"], [1.0, \"#f0f921\"]], \"type\": \"surface\"}], \"table\": [{\"cells\": {\"fill\": {\"color\": \"#EBF0F8\"}, \"line\": {\"color\": \"white\"}}, \"header\": {\"fill\": {\"color\": \"#C8D4E3\"}, \"line\": {\"color\": \"white\"}}, \"type\": \"table\"}]}, \"layout\": {\"annotationdefaults\": {\"arrowcolor\": \"#2a3f5f\", \"arrowhead\": 0, \"arrowwidth\": 1}, \"coloraxis\": {\"colorbar\": {\"outlinewidth\": 0, \"ticks\": \"\"}}, \"colorscale\": {\"diverging\": [[0, \"#8e0152\"], [0.1, \"#c51b7d\"], [0.2, \"#de77ae\"], [0.3, \"#f1b6da\"], [0.4, \"#fde0ef\"], [0.5, \"#f7f7f7\"], [0.6, \"#e6f5d0\"], [0.7, \"#b8e186\"], [0.8, \"#7fbc41\"], [0.9, \"#4d9221\"], [1, \"#276419\"]], \"sequential\": [[0.0, \"#0d0887\"], [0.1111111111111111, \"#46039f\"], [0.2222222222222222, \"#7201a8\"], [0.3333333333333333, \"#9c179e\"], [0.4444444444444444, \"#bd3786\"], [0.5555555555555556, \"#d8576b\"], [0.6666666666666666, \"#ed7953\"], [0.7777777777777778, \"#fb9f3a\"], [0.8888888888888888, \"#fdca26\"], [1.0, \"#f0f921\"]], \"sequentialminus\": [[0.0, \"#0d0887\"], [0.1111111111111111, \"#46039f\"], [0.2222222222222222, \"#7201a8\"], [0.3333333333333333, \"#9c179e\"], [0.4444444444444444, \"#bd3786\"], [0.5555555555555556, \"#d8576b\"], [0.6666666666666666, \"#ed7953\"], [0.7777777777777778, \"#fb9f3a\"], [0.8888888888888888, \"#fdca26\"], [1.0, \"#f0f921\"]]}, \"colorway\": [\"#636efa\", \"#EF553B\", \"#00cc96\", \"#ab63fa\", \"#FFA15A\", \"#19d3f3\", \"#FF6692\", \"#B6E880\", \"#FF97FF\", \"#FECB52\"], \"font\": {\"color\": \"#2a3f5f\"}, \"geo\": {\"bgcolor\": \"white\", \"lakecolor\": \"white\", \"landcolor\": \"#E5ECF6\", \"showlakes\": true, \"showland\": true, \"subunitcolor\": \"white\"}, \"hoverlabel\": {\"align\": \"left\"}, \"hovermode\": \"closest\", \"mapbox\": {\"style\": \"light\"}, \"paper_bgcolor\": \"white\", \"plot_bgcolor\": \"#E5ECF6\", \"polar\": {\"angularaxis\": {\"gridcolor\": \"white\", \"linecolor\": \"white\", \"ticks\": \"\"}, \"bgcolor\": \"#E5ECF6\", \"radialaxis\": {\"gridcolor\": \"white\", \"linecolor\": \"white\", \"ticks\": \"\"}}, \"scene\": {\"xaxis\": {\"backgroundcolor\": \"#E5ECF6\", \"gridcolor\": \"white\", \"gridwidth\": 2, \"linecolor\": \"white\", \"showbackground\": true, \"ticks\": \"\", \"zerolinecolor\": \"white\"}, \"yaxis\": {\"backgroundcolor\": \"#E5ECF6\", \"gridcolor\": \"white\", \"gridwidth\": 2, \"linecolor\": \"white\", \"showbackground\": true, \"ticks\": \"\", \"zerolinecolor\": \"white\"}, \"zaxis\": {\"backgroundcolor\": \"#E5ECF6\", \"gridcolor\": \"white\", \"gridwidth\": 2, \"linecolor\": \"white\", \"showbackground\": true, \"ticks\": \"\", \"zerolinecolor\": \"white\"}}, \"shapedefaults\": {\"line\": {\"color\": \"#2a3f5f\"}}, \"ternary\": {\"aaxis\": {\"gridcolor\": \"white\", \"linecolor\": \"white\", \"ticks\": \"\"}, \"baxis\": {\"gridcolor\": \"white\", \"linecolor\": \"white\", \"ticks\": \"\"}, \"bgcolor\": \"#E5ECF6\", \"caxis\": {\"gridcolor\": \"white\", \"linecolor\": \"white\", \"ticks\": \"\"}}, \"title\": {\"x\": 0.05}, \"xaxis\": {\"automargin\": true, \"gridcolor\": \"white\", \"linecolor\": \"white\", \"ticks\": \"\", \"title\": {\"standoff\": 15}, \"zerolinecolor\": \"white\", \"zerolinewidth\": 2}, \"yaxis\": {\"automargin\": true, \"gridcolor\": \"white\", \"linecolor\": \"white\", \"ticks\": \"\", \"title\": {\"standoff\": 15}, \"zerolinecolor\": \"white\", \"zerolinewidth\": 2}}}},\n",
              "                        {\"responsive\": true}\n",
              "                    ).then(function(){\n",
              "                            \n",
              "var gd = document.getElementById('e337c854-a9f8-43ce-b382-fb323ddefcd4');\n",
              "var x = new MutationObserver(function (mutations, observer) {{\n",
              "        var display = window.getComputedStyle(gd).display;\n",
              "        if (!display || display === 'none') {{\n",
              "            console.log([gd, 'removed!']);\n",
              "            Plotly.purge(gd);\n",
              "            observer.disconnect();\n",
              "        }}\n",
              "}});\n",
              "\n",
              "// Listen for the removal of the full notebook cells\n",
              "var notebookContainer = gd.closest('#notebook-container');\n",
              "if (notebookContainer) {{\n",
              "    x.observe(notebookContainer, {childList: true});\n",
              "}}\n",
              "\n",
              "// Listen for the clearing of the current output cell\n",
              "var outputEl = gd.closest('.output');\n",
              "if (outputEl) {{\n",
              "    x.observe(outputEl, {childList: true});\n",
              "}}\n",
              "\n",
              "                        })\n",
              "                };\n",
              "                \n",
              "            </script>\n",
              "        </div>\n",
              "</body>\n",
              "</html>"
            ]
          },
          "metadata": {}
        }
      ]
    },
    {
      "cell_type": "markdown",
      "metadata": {
        "id": "3yuyV93kireL"
      },
      "source": [
        "O mapa mostra um subconjunto de postes de rua Phillidelphia. Agora, precisamos construir a coluna de coordenadas das colunas X e Y. Podemos fazer isso simplesmente mapeando essas duas colunas (X e Y) como strings e, em seguida, concatená-las com uma vírgula."
      ]
    },
    {
      "cell_type": "code",
      "metadata": {
        "colab": {
          "base_uri": "https://localhost:8080/",
          "height": 35
        },
        "id": "Ic55rhgEiwm-",
        "outputId": "7ccaa8f3-fdee-49af-c419-aebb3a0d140e"
      },
      "source": [
        "df[\"geom\"] = df[\"Y\"].map(str) + ',' + df['X'].map(str)\n",
        "df[\"geom\"][0]"
      ],
      "execution_count": null,
      "outputs": [
        {
          "output_type": "execute_result",
          "data": {
            "application/vnd.google.colaboratory.intrinsic+json": {
              "type": "string"
            },
            "text/plain": [
              "'39.9427660880249,-75.17009743393821'"
            ]
          },
          "metadata": {},
          "execution_count": 139
        }
      ]
    },
    {
      "cell_type": "markdown",
      "metadata": {
        "id": "EYCVLS51i-9y"
      },
      "source": [
        "Aqui está como a primeira linha da coluna geom que criamos acima."
      ]
    },
    {
      "cell_type": "markdown",
      "metadata": {
        "id": "N7m3Sj7WjH-O"
      },
      "source": [
        "Criamos um localizador de provedor de serviço com o tempo limite de passagem de tempo de 10 minutos, pois temos muitas linhas. Isso evitará erros de tempo limite que você possa encontrar durante o processo."
      ]
    },
    {
      "cell_type": "code",
      "metadata": {
        "id": "fnVkJYbNjEbY"
      },
      "source": [
        "#locator = Nominatim(user_agent=\"myGeocoder\", timeout=10)\n",
        "locator = Nominatim(user_agent=\"my-application\", timeout=10)\n",
        "rgeocode = RateLimiter(locator.reverse, min_delay_seconds=0.001)"
      ],
      "execution_count": null,
      "outputs": []
    },
    {
      "cell_type": "code",
      "metadata": {
        "colab": {
          "base_uri": "https://localhost:8080/"
        },
        "id": "NLbvx37IRCwq",
        "outputId": "caa685a5-5934-4340-a5c8-f999f25065e8"
      },
      "source": [
        "rgeocode"
      ],
      "execution_count": null,
      "outputs": [
        {
          "output_type": "execute_result",
          "data": {
            "text/plain": [
              "<geopy.extra.rate_limiter.RateLimiter at 0x7faf02f11a10>"
            ]
          },
          "metadata": {},
          "execution_count": 141
        }
      ]
    },
    {
      "cell_type": "markdown",
      "metadata": {
        "id": "Q5R6oGjjjS_Q"
      },
      "source": [
        "Agora, podemos reverter o geocode usando a aplicação do rgeocode de geocodificação reversa que criamos acima. Para obter uma boa barra de progresso, estamos usando aqui a biblioteca tqdm."
      ]
    },
    {
      "cell_type": "code",
      "metadata": {
        "id": "hfccmomejVSm",
        "colab": {
          "base_uri": "https://localhost:8080/",
          "height": 81,
          "referenced_widgets": [
            "892c3d11ebc84f899dafd572eb5ae360",
            "6d5fff7e06124434a4d2d7030e7bfc40",
            "d4941ae0d9f1489892cdc94c2547291f",
            "0ddbc3d1e7b54458a5e314d34deb1ce3",
            "40046c863d2646bc89bfaf0591e8997a",
            "453c3cbcef084a3c9dcaf4217f313c16",
            "3f30c15f76e7448e8d6cd37b18f6826d",
            "360fe64fb11440819fcdadc6ff581bc6",
            "a80080fcc8124399bd8f934f8e3e31b5",
            "94aac994b2184ca5b46aa072491a380b",
            "79eb135dabf4405a98e1bd3101da3e60",
            "549bbe531cdb4ff79bf786901477d93e",
            "2ffdf4a3c64e4cf087dd29ae70848289",
            "8d78f29970974a5cad6a4e071c660aa6",
            "663e377778c54bb29ba0c7a703e13633",
            "1f38c19f2c6641a0bb470ecbbca82f65",
            "53ec152078624ac488c0715d6102086d",
            "e2e478c7a9064c458e50ef071de19f16",
            "50be9f8064b046d3ab808942a5466e08",
            "1ddc31f74f65449887baa46d85e985ef",
            "c907e492fa19481d8b2d2471043859e1",
            "0419558dde164e92b68052a7b00160b4"
          ]
        },
        "outputId": "6344f21c-5593-4bf3-967a-7cab963b2d38"
      },
      "source": [
        "#tqdm.pandas()\n",
        "tqdm_notebook().pandas()\n",
        "df['address'] = df['geom'].progress_apply(rgeocode)"
      ],
      "execution_count": null,
      "outputs": [
        {
          "output_type": "display_data",
          "data": {
            "application/vnd.jupyter.widget-view+json": {
              "model_id": "892c3d11ebc84f899dafd572eb5ae360",
              "version_minor": 0,
              "version_major": 2
            },
            "text/plain": [
              "0it [00:00, ?it/s]"
            ]
          },
          "metadata": {}
        },
        {
          "output_type": "display_data",
          "data": {
            "application/vnd.jupyter.widget-view+json": {
              "model_id": "549bbe531cdb4ff79bf786901477d93e",
              "version_minor": 0,
              "version_major": 2
            },
            "text/plain": [
              "  0%|          | 0/150 [00:00<?, ?it/s]"
            ]
          },
          "metadata": {}
        }
      ]
    },
    {
      "cell_type": "code",
      "metadata": {
        "id": "AfRcAlkHw0d8",
        "colab": {
          "base_uri": "https://localhost:8080/",
          "height": 293
        },
        "outputId": "a1ac4491-0b9e-4e24-e823-f7169eace7d4"
      },
      "source": [
        "df.head()"
      ],
      "execution_count": null,
      "outputs": [
        {
          "output_type": "execute_result",
          "data": {
            "text/html": [
              "<div>\n",
              "<style scoped>\n",
              "    .dataframe tbody tr th:only-of-type {\n",
              "        vertical-align: middle;\n",
              "    }\n",
              "\n",
              "    .dataframe tbody tr th {\n",
              "        vertical-align: top;\n",
              "    }\n",
              "\n",
              "    .dataframe thead th {\n",
              "        text-align: right;\n",
              "    }\n",
              "</style>\n",
              "<table border=\"1\" class=\"dataframe\">\n",
              "  <thead>\n",
              "    <tr style=\"text-align: right;\">\n",
              "      <th></th>\n",
              "      <th>X</th>\n",
              "      <th>Y</th>\n",
              "      <th>POLE_NUM</th>\n",
              "      <th>TYPE</th>\n",
              "      <th>HEIGHT</th>\n",
              "      <th>POLE_DATE</th>\n",
              "      <th>OWNER</th>\n",
              "      <th>geom</th>\n",
              "      <th>address</th>\n",
              "    </tr>\n",
              "  </thead>\n",
              "  <tbody>\n",
              "    <tr>\n",
              "      <th>0</th>\n",
              "      <td>-75.170097</td>\n",
              "      <td>39.942766</td>\n",
              "      <td>214423</td>\n",
              "      <td>WP</td>\n",
              "      <td>NaN</td>\n",
              "      <td>1997-06-09T00:00:00.000Z</td>\n",
              "      <td>PECO</td>\n",
              "      <td>39.9427660880249,-75.17009743393821</td>\n",
              "      <td>(723, South Chadwick Street, South Philadelphi...</td>\n",
              "    </tr>\n",
              "    <tr>\n",
              "      <th>1</th>\n",
              "      <td>-75.166112</td>\n",
              "      <td>39.941477</td>\n",
              "      <td>215645</td>\n",
              "      <td>AAPT</td>\n",
              "      <td>25.0</td>\n",
              "      <td>1997-06-10T00:00:00.000Z</td>\n",
              "      <td>Streets</td>\n",
              "      <td>39.941477314134396,-75.166112027818</td>\n",
              "      <td>(Tindley Temple United Methodist Church, 750, ...</td>\n",
              "    </tr>\n",
              "    <tr>\n",
              "      <th>2</th>\n",
              "      <td>-75.163483</td>\n",
              "      <td>39.943068</td>\n",
              "      <td>215926</td>\n",
              "      <td>WP</td>\n",
              "      <td>NaN</td>\n",
              "      <td>1997-06-04T00:00:00.000Z</td>\n",
              "      <td>PECO</td>\n",
              "      <td>39.9430681055253,-75.1634826347411</td>\n",
              "      <td>(1302, South 13th Street, Martin Luther King P...</td>\n",
              "    </tr>\n",
              "    <tr>\n",
              "      <th>3</th>\n",
              "      <td>-75.167727</td>\n",
              "      <td>39.944528</td>\n",
              "      <td>214515</td>\n",
              "      <td>WP</td>\n",
              "      <td>25.0</td>\n",
              "      <td>1997-06-09T00:00:00.000Z</td>\n",
              "      <td>Streets</td>\n",
              "      <td>39.9445279530865,-75.16772651013079</td>\n",
              "      <td>(PowerBack Rehabilitation, Naudain Street, Rit...</td>\n",
              "    </tr>\n",
              "    <tr>\n",
              "      <th>4</th>\n",
              "      <td>-75.171863</td>\n",
              "      <td>39.941486</td>\n",
              "      <td>214380</td>\n",
              "      <td>WP</td>\n",
              "      <td>25.0</td>\n",
              "      <td>1997-06-09T00:00:00.000Z</td>\n",
              "      <td>Streets</td>\n",
              "      <td>39.9414861490123,-75.17186304554191</td>\n",
              "      <td>(Marian Anderson Community Center, Catharine S...</td>\n",
              "    </tr>\n",
              "  </tbody>\n",
              "</table>\n",
              "</div>"
            ],
            "text/plain": [
              "           X  ...                                            address\n",
              "0 -75.170097  ...  (723, South Chadwick Street, South Philadelphi...\n",
              "1 -75.166112  ...  (Tindley Temple United Methodist Church, 750, ...\n",
              "2 -75.163483  ...  (1302, South 13th Street, Martin Luther King P...\n",
              "3 -75.167727  ...  (PowerBack Rehabilitation, Naudain Street, Rit...\n",
              "4 -75.171863  ...  (Marian Anderson Community Center, Catharine S...\n",
              "\n",
              "[5 rows x 9 columns]"
            ]
          },
          "metadata": {},
          "execution_count": 143
        }
      ]
    },
    {
      "cell_type": "markdown",
      "metadata": {
        "id": "i5qXUeu1mdML"
      },
      "source": [
        "Pode demorar um pouco, dependendo do número de linhas no conjunto de dados. Mas quando o processo terminar, você terá um recurso adicional no conjunto de dados em que cada ponto tem um endereço conforme mostrado abaixo.\n",
        "Os dados agora têm atributos muito mais perspicazes associados a cada ponto, incluindo endereço, código postal, edifícios, etc. ...\n",
        "Demorou 1 minuto e 45 segundos para realizar a geocodificação reversa com apenas 150 pontos. O tempo de cálculo provavelmente não é uma boa opção, pois um aumento nos pontos de dados exigirá muito tempo de processamento. Se você tiver um grande conjunto de dados, pode tentar diminuir os segundos de atraso."
      ]
    },
    {
      "cell_type": "markdown",
      "metadata": {
        "id": "8SyZ3LBqmqSd"
      },
      "source": [
        "# Conclusão\n",
        "Neste artigo, exploramos como você pode reverter coordenadas de geocodificação para endereços. Você pode acessar o bloco de notas para este tutorial neste Google Colab Notebook."
      ]
    }
  ]
}